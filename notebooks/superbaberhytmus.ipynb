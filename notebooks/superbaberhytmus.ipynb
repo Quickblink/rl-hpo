{
 "cells": [
  {
   "cell_type": "code",
   "execution_count": 3,
   "metadata": {
    "collapsed": true,
    "pycharm": {
     "is_executing": false
    }
   },
   "outputs": [],
   "source": [
    "import torch\n",
    "import numpy as np\n",
    "from GPEnv import GPEnv\n",
    "from torch.utils.data import Dataset\n",
    "from itertools import count\n",
    "import torch.nn.functional as F\n",
    "from torch.distributions import Normal\n",
    "\n"
   ]
  },
  {
   "cell_type": "code",
   "execution_count": null,
   "outputs": [],
   "source": [
    "env = GPEnv({})\n"
   ],
   "metadata": {
    "collapsed": false,
    "pycharm": {
     "name": "#%%\n"
    }
   }
  },
  {
   "cell_type": "code",
   "execution_count": null,
   "outputs": [],
   "source": [
    "class MyDataset(Dataset):\n",
    "    def __init__(self, data):\n",
    "        super(MyDataset, self).__init__()\n",
    "        self.data = data\n",
    "    \n",
    "    def __getitem__(self, idx):\n",
    "        return self.data[idx]"
   ],
   "metadata": {
    "collapsed": false,
    "pycharm": {
     "name": "#%%\n"
    }
   }
  },
  {
   "cell_type": "code",
   "execution_count": null,
   "outputs": [],
   "source": [],
   "metadata": {
    "collapsed": false,
    "pycharm": {
     "name": "#%%\n"
    }
   }
  },
  {
   "cell_type": "code",
   "execution_count": null,
   "outputs": [],
   "source": [
    "def make_dataset(num_episodes, max_iter, model, env, var):\n",
    "    data = torch.empty((num_episodes, max_iter, 2, 3), dtype=torch.float)\n",
    "    for i in range(num_episodes):\n",
    "        obs = env.reset()\n",
    "        data[i, 0, 0] = torch.tensor(obs + [0])\n",
    "        data[i, 0, 1] = torch.tensor(obs + [0])\n",
    "        hidden = None#model.get_initial_state()\n",
    "        for k in range(1, max_iter):\n",
    "            with torch.no_grad():\n",
    "                out, _, hidden = model([obs], hidden)\n",
    "            action = Normal(out, var).sample()\n",
    "            obs, r, _, _ = env.step(action)\n",
    "            obst, rt, _, _ = env.step(out, shadow=True)\n",
    "            data[i, k, 0] = torch.tensor(obs + [r])\n",
    "            data[i, k, 1] = torch.tensor(obst + [rt])\n",
    "    return data\n"
   ],
   "metadata": {
    "collapsed": false,
    "pycharm": {
     "name": "#%%\n"
    }
   }
  },
  {
   "cell_type": "code",
   "execution_count": null,
   "outputs": [],
   "source": [
    "#value+reward of all states, real and shadow\n",
    "#compare real and shadow for advantage\n",
    "#\n",
    "def train_episode(data, idx, model, max_iter, gamma, var):\n",
    "    hidden = None\n",
    "    for k in range(max_iter):\n",
    "            act, v, hidden = model(data[idx, k, :, :2], hidden)\n",
    "            v = v.squeeze()\n",
    "            hidden = (hidden[0][:,0], hidden[1][:,0])\n",
    "            vpr = gamma * v + data[idx, k, :, 2]\n",
    "            if k > 0: #last iteration?\n",
    "                F.mse_loss(v_old, vpr[1]).backward()\n",
    "                adv = vpr[0] - vpr[1]\n",
    "                loss = adv * torch.exp(Normal(act_old, var).log_prob(data[idx,k,0,0]))\n",
    "                loss.backward()\n",
    "            v_old = v[0]\n",
    "            act_old = act[0]\n"
   ],
   "metadata": {
    "collapsed": false,
    "pycharm": {
     "name": "#%%\n"
    }
   }
  },
  {
   "cell_type": "code",
   "execution_count": 17,
   "outputs": [
    {
     "data": {
      "text/plain": "tensor(-0.0122)"
     },
     "metadata": {},
     "output_type": "execute_result",
     "execution_count": 17
    }
   ],
   "source": [
    "Normal(0, .01).sample()"
   ],
   "metadata": {
    "collapsed": false,
    "pycharm": {
     "name": "#%%\n",
     "is_executing": false
    }
   }
  },
  {
   "cell_type": "code",
   "execution_count": 10,
   "outputs": [
    {
     "data": {
      "text/plain": "tensor([-0.9115], grad_fn=<AddBackward0>)"
     },
     "metadata": {},
     "output_type": "execute_result",
     "execution_count": 10
    }
   ],
   "source": [
    "loc = torch.zeros((1,), requires_grad=True)\n",
    "Normal(loc, 1).rsample()\n"
   ],
   "metadata": {
    "collapsed": false,
    "pycharm": {
     "name": "#%%\n",
     "is_executing": false
    }
   }
  },
  {
   "cell_type": "code",
   "execution_count": 9,
   "outputs": [
    {
     "data": {
      "text/plain": "tensor([2])"
     },
     "metadata": {},
     "output_type": "execute_result",
     "execution_count": 9
    }
   ],
   "source": [
    "\n",
    "torch.tensor([1,2])[[1]]"
   ],
   "metadata": {
    "collapsed": false,
    "pycharm": {
     "name": "#%%\n",
     "is_executing": false
    }
   }
  },
  {
   "cell_type": "code",
   "execution_count": 13,
   "outputs": [],
   "source": [
    "a = [2,3]"
   ],
   "metadata": {
    "collapsed": false,
    "pycharm": {
     "name": "#%%\n",
     "is_executing": false
    }
   }
  },
  {
   "cell_type": "code",
   "execution_count": 14,
   "outputs": [],
   "source": [
    "a.append(3)"
   ],
   "metadata": {
    "collapsed": false,
    "pycharm": {
     "name": "#%%\n",
     "is_executing": false
    }
   }
  },
  {
   "cell_type": "code",
   "execution_count": 28,
   "outputs": [
    {
     "data": {
      "text/plain": "[1, 2]"
     },
     "metadata": {},
     "output_type": "execute_result",
     "execution_count": 28
    }
   ],
   "source": [
    "([1,2],[3,4])[:][0]"
   ],
   "metadata": {
    "collapsed": false,
    "pycharm": {
     "name": "#%%\n",
     "is_executing": false
    }
   }
  },
  {
   "cell_type": "code",
   "execution_count": null,
   "outputs": [],
   "source": [
    "\n",
    "\n",
    "\n",
    "def make_dataset(num_episodes, max_iter, model, env, var):\n",
    "    data = torch.empty((num_episodes, max_iter, 3), dtype=torch.float)\n",
    "    for i in range(num_episodes):\n",
    "        obs = env.reset()\n",
    "        data[i, 0] = torch.tensor(obs + [0])\n",
    "        hidden = model.get_initial_state()\n",
    "        for k in range(1, max_iter):\n",
    "            with torch.no_grad():\n",
    "                out, hidden = model(obs, hidden)\n",
    "            action = Normal(out, var).sample()\n",
    "            obs, r, t, _ = env.step(action)\n",
    "            data[i, k] = torch.tensor(obs + [r])\n",
    "    return data"
   ],
   "metadata": {
    "collapsed": false,
    "pycharm": {
     "name": "#%%\n"
    }
   }
  }
 ],
 "metadata": {
  "kernelspec": {
   "display_name": "Python 3",
   "language": "python",
   "name": "python3"
  },
  "language_info": {
   "codemirror_mode": {
    "name": "ipython",
    "version": 2
   },
   "file_extension": ".py",
   "mimetype": "text/x-python",
   "name": "python",
   "nbconvert_exporter": "python",
   "pygments_lexer": "ipython2",
   "version": "2.7.6"
  },
  "pycharm": {
   "stem_cell": {
    "cell_type": "raw",
    "source": [],
    "metadata": {
     "collapsed": false
    }
   }
  }
 },
 "nbformat": 4,
 "nbformat_minor": 0
}